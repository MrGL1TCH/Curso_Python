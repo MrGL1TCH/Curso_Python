{
 "cells": [
  {
   "cell_type": "markdown",
   "metadata": {},
   "source": [
    "Funciones"
   ]
  },
  {
   "cell_type": "code",
   "execution_count": 1,
   "metadata": {},
   "outputs": [
    {
     "name": "stdout",
     "output_type": "stream",
     "text": [
      "hola\n"
     ]
    },
    {
     "data": {
      "text/plain": [
       "10"
      ]
     },
     "execution_count": 1,
     "metadata": {},
     "output_type": "execute_result"
    }
   ],
   "source": [
    "#Ejemplo de funciones\n",
    "print(\"hola\")\n",
    "len(\"hola\")\n",
    "sum([1,2,3,4])"
   ]
  },
  {
   "cell_type": "markdown",
   "metadata": {},
   "source": [
    "sum()\n",
    "iterable\n",
    "Empieza en = 0"
   ]
  },
  {
   "attachments": {},
   "cell_type": "markdown",
   "metadata": {},
   "source": [
    "Para crear nuestras funciones debemos utilizar la palabra \"def\", este indica que se creara una funcion, despues de def, debemos darle un nombre a nuestra funcion\n",
    "entre parentesis debemos darle los parametros que utilizara la funcion"
   ]
  },
  {
   "cell_type": "code",
   "execution_count": 4,
   "metadata": {},
   "outputs": [],
   "source": [
    "def sumar(a,b):\n",
    "    #Se documenta la funcion con triple comillas dobles al inicio y al final, sirve para saber que hace la funcion, se utiliza lenguaje markdown\n",
    "    \"\"\"Funcion para sumar 2 numeros\n",
    "    ## Parametros\n",
    "    a, b : valores enteros \n",
    "    ## Return\n",
    "    La suma de a y b\n",
    "    \"\"\"\n",
    "    resultado = a + b\n",
    "    #Se utiliza \"return para retornar/dar un valor, en este caso para regresar el resultado de la suma\"\n",
    "    return resultado"
   ]
  },
  {
   "cell_type": "code",
   "execution_count": 5,
   "metadata": {},
   "outputs": [
    {
     "data": {
      "text/plain": [
       "18"
      ]
     },
     "execution_count": 5,
     "metadata": {},
     "output_type": "execute_result"
    }
   ],
   "source": [
    "#Ya creada la funcion podemos utilizarla, solo debemos llamarla y darle los parametros/datos, si ponemos el cursor encima de la funcion aparecera nuestra documentacion,\n",
    "#asi podemos saber que hacen las funciones que tengamos ademas de que si utilizamos funciones de otras personas podemos tener una explicacion de la misma\n",
    "sumar(8,10)"
   ]
  },
  {
   "cell_type": "code",
   "execution_count": 12,
   "metadata": {},
   "outputs": [],
   "source": [
    "def dolaresApesos(d):\n",
    "    \"\"\"Funcion para transformar dolares a pesos\n",
    "    ## Parametros\n",
    "    d : valores enteros \n",
    "    ## Return\n",
    "    La multipicacion de d por 19.75 (la equivalencia de un dolar a pesos)\n",
    "    \"\"\"\n",
    "    transformacion = d * 19.76\n",
    "    return transformacion"
   ]
  },
  {
   "cell_type": "code",
   "execution_count": 10,
   "metadata": {},
   "outputs": [
    {
     "data": {
      "text/plain": [
       "494.00000000000006"
      ]
     },
     "execution_count": 10,
     "metadata": {},
     "output_type": "execute_result"
    }
   ],
   "source": [
    "dolaresApesos(25)"
   ]
  },
  {
   "cell_type": "code",
   "execution_count": 18,
   "metadata": {},
   "outputs": [],
   "source": [
    "def promedio(lista):\n",
    "    \"\"\"Funcion para sacar el promedio\n",
    "    ## Parametros\n",
    "    lista = Una lista con datos\n",
    "    ## Return\n",
    "    El promedio de la lista otorgada\n",
    "    \"\"\"\n",
    "    divisor = len(lista)\n",
    "    suma = sum(lista)\n",
    "    prom = suma / divisor\n",
    "    return prom\n"
   ]
  },
  {
   "cell_type": "code",
   "execution_count": 17,
   "metadata": {},
   "outputs": [
    {
     "data": {
      "text/plain": [
       "5.5"
      ]
     },
     "execution_count": 17,
     "metadata": {},
     "output_type": "execute_result"
    }
   ],
   "source": [
    "lista = [1,2,3,4,5,6,7,8,9,10]\n",
    "promedio(lista)\n"
   ]
  }
 ],
 "metadata": {
  "kernelspec": {
   "display_name": "Python 3",
   "language": "python",
   "name": "python3"
  },
  "language_info": {
   "codemirror_mode": {
    "name": "ipython",
    "version": 3
   },
   "file_extension": ".py",
   "mimetype": "text/x-python",
   "name": "python",
   "nbconvert_exporter": "python",
   "pygments_lexer": "ipython3",
   "version": "3.11.0 (main, Oct 24 2022, 18:26:48) [MSC v.1933 64 bit (AMD64)]"
  },
  "orig_nbformat": 4,
  "vscode": {
   "interpreter": {
    "hash": "9454abc5bd96759a66e6a15196b53a3c7157b7744a678b20c89b8660c7afb3fb"
   }
  }
 },
 "nbformat": 4,
 "nbformat_minor": 2
}
