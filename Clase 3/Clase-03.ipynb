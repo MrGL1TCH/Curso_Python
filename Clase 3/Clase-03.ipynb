{
 "cells": [
  {
   "attachments": {},
   "cell_type": "markdown",
   "metadata": {},
   "source": [
    "Clase 3 08/12/2022"
   ]
  },
  {
   "cell_type": "code",
   "execution_count": 1,
   "metadata": {},
   "outputs": [
    {
     "name": "stdout",
     "output_type": "stream",
     "text": [
      "Se cumple la condicion\n"
     ]
    }
   ],
   "source": [
    "if True: \n",
    "    print(\"Se cumple la condicion\")"
   ]
  },
  {
   "cell_type": "code",
   "execution_count": 3,
   "metadata": {},
   "outputs": [
    {
     "name": "stdout",
     "output_type": "stream",
     "text": [
      "se cumple la condicion\n",
      "se cumple la condicion\n",
      "se cumple la condicion\n",
      "se cumple la condicion\n",
      "se cumple la condicion\n",
      "se cumple la condicion\n"
     ]
    }
   ],
   "source": [
    "#while que significa mientras, va realizar un ciclo que se va repetir mientras la condicion se cumpla, hasta que se rompa\n",
    "contador = 0\n",
    "while contador <= 5 :\n",
    "    print(\"se cumple la condicion\")\n",
    "    contador = contador + 1\n"
   ]
  },
  {
   "cell_type": "code",
   "execution_count": 7,
   "metadata": {},
   "outputs": [
    {
     "name": "stdout",
     "output_type": "stream",
     "text": [
      "Necesitas crear una contraseña de más de 6 dígitos\n",
      "Necesitas crear una contraseña de más de 6 dígitos\n",
      "Necesitas crear una contraseña de más de 6 dígitos\n",
      "Usuario registrado\n"
     ]
    }
   ],
   "source": [
    "auth = 0\n",
    "while auth == 0:\n",
    "    username = input(\"Cual es tu usuario?\")\n",
    "    password = input(\"Dame una contraseña\")\n",
    "\n",
    "    if len(password) < 6 :\n",
    "        print(\"Necesitas crear una contraseña de más de 6 dígitos\")\n",
    "    else:\n",
    "        print(\"Usuario registrado\")\n",
    "        auth = 1"
   ]
  },
  {
   "cell_type": "code",
   "execution_count": 8,
   "metadata": {},
   "outputs": [
    {
     "name": "stdout",
     "output_type": "stream",
     "text": [
      "Hola mundo\n",
      "Hola mundo\n",
      "Hola mundo\n",
      "Hola mundo\n",
      "Hola mundo\n",
      "Hola mundo\n",
      "Hola mundo\n",
      "Hola mundo\n",
      "Hola mundo\n",
      "Hola mundo\n"
     ]
    }
   ],
   "source": [
    "#for es la estructura pora iniciar un ciclo de repeticion, indice es el valor que constantemente esta cambiando\n",
    "#in es el que va definir si es for de rangos o for de elementos\n",
    "#range(10) el rango que se va a repetir 10 veces\n",
    "# Todo lo que este despues de : es identado, se repetira \n",
    "for indice in range(10):\n",
    "    print(\"Hola mundo\")"
   ]
  },
  {
   "cell_type": "code",
   "execution_count": 9,
   "metadata": {},
   "outputs": [
    {
     "name": "stdout",
     "output_type": "stream",
     "text": [
      "0\n",
      "1\n",
      "2\n",
      "3\n",
      "4\n",
      "5\n",
      "6\n",
      "7\n",
      "8\n",
      "9\n"
     ]
    }
   ],
   "source": [
    "for indice in range(10):\n",
    "    print(indice)"
   ]
  },
  {
   "cell_type": "code",
   "execution_count": 10,
   "metadata": {},
   "outputs": [
    {
     "name": "stdout",
     "output_type": "stream",
     "text": [
      "9\n",
      "9\n",
      "9\n",
      "9\n",
      "9\n",
      "9\n",
      "9\n",
      "9\n",
      "9\n",
      "9\n"
     ]
    }
   ],
   "source": [
    "#El rango comienza siempre a partir del 0\n",
    "for i in range(10):\n",
    "    print(indice)\n",
    "    "
   ]
  },
  {
   "cell_type": "code",
   "execution_count": 11,
   "metadata": {},
   "outputs": [
    {
     "name": "stdout",
     "output_type": "stream",
     "text": [
      "5\n",
      "6\n",
      "7\n",
      "8\n",
      "9\n",
      "10\n",
      "11\n",
      "12\n",
      "13\n",
      "14\n"
     ]
    }
   ],
   "source": [
    "#Se define el rango de cual a cual numero sera el indice\n",
    "for i in range(5,15):\n",
    "    print(i)"
   ]
  },
  {
   "cell_type": "code",
   "execution_count": 12,
   "metadata": {},
   "outputs": [
    {
     "name": "stdout",
     "output_type": "stream",
     "text": [
      "2\n",
      "4\n",
      "6\n",
      "8\n",
      "10\n",
      "12\n",
      "14\n",
      "16\n",
      "18\n",
      "20\n",
      "22\n",
      "24\n"
     ]
    }
   ],
   "source": [
    "#Aqui el tercer valor indica que el indice va ir saltando de dos en dos, \n",
    "for i in range(2,25,2):\n",
    "    print(i)"
   ]
  },
  {
   "cell_type": "code",
   "execution_count": 13,
   "metadata": {},
   "outputs": [
    {
     "name": "stdout",
     "output_type": "stream",
     "text": [
      "0\n",
      "1\n"
     ]
    }
   ],
   "source": [
    "n = int(input(\"Cuantas veces se repetira?\"))\n",
    "for i in range(n):\n",
    "    print(i)"
   ]
  },
  {
   "cell_type": "code",
   "execution_count": 14,
   "metadata": {},
   "outputs": [
    {
     "name": "stdout",
     "output_type": "stream",
     "text": [
      "[0, 1, 4, 9, 16, 25, 36, 49, 64, 81]\n"
     ]
    }
   ],
   "source": [
    "#for y listas\n",
    "#Para crear una lista que contenga los numeros al cuadrado del 0 al 10\n",
    "numeros_cuadrado = []\n",
    "for i in range (10):\n",
    "    numeros_cuadrado.append(i**2)\n",
    "\n",
    "print(numeros_cuadrado)"
   ]
  },
  {
   "cell_type": "code",
   "execution_count": 15,
   "metadata": {},
   "outputs": [
    {
     "name": "stdout",
     "output_type": "stream",
     "text": [
      "Manzana\n",
      "Platano\n",
      "Pera\n",
      "Naranja\n"
     ]
    }
   ],
   "source": [
    "#En este ejemplo hacemos que imprima mis_frutas[i], ya que la i va ir cambiando podemos usarlo para que imprima los elementos de la lista en la posicion i\n",
    "\n",
    "mis_frutas = [\"Manzana\",\"Platano\",\"Pera\",\"Naranja\"]\n",
    "for i in range(4):\n",
    "    print(mis_frutas[i])"
   ]
  },
  {
   "cell_type": "code",
   "execution_count": 17,
   "metadata": {},
   "outputs": [
    {
     "name": "stdout",
     "output_type": "stream",
     "text": [
      "Manzana\n",
      "Platano\n",
      "Pera\n",
      "Naranja\n"
     ]
    }
   ],
   "source": [
    "#Aqui hacemos lo mismo, solamente que ponemos la longitud de la lista para que se repita esa cantidad de veces, asi no importa el tamano de la lista, siempre va imprimir todo\n",
    "#de la lista\n",
    "for i in range(len(mis_frutas)):\n",
    "    print(mis_frutas[i])"
   ]
  },
  {
   "cell_type": "code",
   "execution_count": 18,
   "metadata": {},
   "outputs": [
    {
     "name": "stdout",
     "output_type": "stream",
     "text": [
      "Manzana\n",
      "Platano\n",
      "Pera\n",
      "Naranja\n"
     ]
    }
   ],
   "source": [
    "for element in mis_frutas:\n",
    "    print(element)\n",
    "    "
   ]
  },
  {
   "cell_type": "code",
   "execution_count": 19,
   "metadata": {},
   "outputs": [
    {
     "name": "stdout",
     "output_type": "stream",
     "text": [
      "Manzana\n",
      "Platano\n",
      "Pera\n",
      "Naranja\n"
     ]
    }
   ],
   "source": [
    "for e in mis_frutas:\n",
    "    print(e)"
   ]
  },
  {
   "cell_type": "code",
   "execution_count": 35,
   "metadata": {},
   "outputs": [
    {
     "name": "stdout",
     "output_type": "stream",
     "text": [
      "[6]\n",
      "[6, 6]\n",
      "[6, 6, 6]\n",
      "18\n",
      "6.0\n",
      "Pasate la materia con: 6.0\n"
     ]
    }
   ],
   "source": [
    "#Ejercicio, realizar un programa que pida la cantidad de calificaciones que se van a pedir, pedir las calificaciones, sacar el promedio y decir si esta reprobado o aprobado\n",
    "calificaciones = []\n",
    "#Preguntamos la cantidad de calificaciones para usarlas en el ciclo, seran las iteraciones que se hagan\n",
    "cantcalif = int(input(\"Cuantas calificaciones agregara?\"))\n",
    "#Comenzamos con el ciclo\n",
    "for i in range(cantcalif):\n",
    "    calificaciones.append(int(input(\"Inserte una calificacion: \")))\n",
    "    print(calificaciones)\n",
    "#Termina el ciclo en cuanto se cumplen la cantidad de iteraciones, las cuales con cantcalif\n",
    "#Sumamos todas los resultados son \"sum\" y las vamos imprimiendo para que podamos ver los cambios\n",
    "calicalif = sum(calificaciones)\n",
    "print(calicalif)\n",
    "#Sacamos el promedio\n",
    "promedio = calicalif / cantcalif\n",
    "print(promedio)\n",
    "#Ponemos una condicion para definir si el alumno paso o no apartir del promedio obtenido\n",
    "if promedio >= 6 :\n",
    "    print(f\"Pasate la materia con: {promedio}\")\n",
    "else:\n",
    "    print(\"Te veo en el final\")"
   ]
  },
  {
   "cell_type": "code",
   "execution_count": null,
   "metadata": {},
   "outputs": [],
   "source": [
    "try:\n",
    "#codigo a ejecutar\n",
    "#Pero podria haber errores en este bloque\n",
    "except <tipo de error>\n",
    "#Haz esto para manejar la excepcion"
   ]
  },
  {
   "cell_type": "code",
   "execution_count": 36,
   "metadata": {},
   "outputs": [
    {
     "name": "stdout",
     "output_type": "stream",
     "text": [
      "name 'suma' is not defined\n"
     ]
    }
   ],
   "source": [
    "try:\n",
    "    print(f'La suma es {suma}')\n",
    "\n",
    "except Exception as error:\n",
    "    print(error)"
   ]
  },
  {
   "cell_type": "code",
   "execution_count": 37,
   "metadata": {},
   "outputs": [
    {
     "name": "stdout",
     "output_type": "stream",
     "text": [
      "Trataste de dividir entre cero :( \n"
     ]
    }
   ],
   "source": [
    "try:\n",
    "    print(0 / 0)\n",
    "except ZeroDivisionError:\n",
    "    print(\"Trataste de dividir entre cero :( \")"
   ]
  }
 ],
 "metadata": {
  "kernelspec": {
   "display_name": "Python 3",
   "language": "python",
   "name": "python3"
  },
  "language_info": {
   "codemirror_mode": {
    "name": "ipython",
    "version": 3
   },
   "file_extension": ".py",
   "mimetype": "text/x-python",
   "name": "python",
   "nbconvert_exporter": "python",
   "pygments_lexer": "ipython3",
   "version": "3.11.0"
  },
  "orig_nbformat": 4,
  "vscode": {
   "interpreter": {
    "hash": "9454abc5bd96759a66e6a15196b53a3c7157b7744a678b20c89b8660c7afb3fb"
   }
  }
 },
 "nbformat": 4,
 "nbformat_minor": 2
}
